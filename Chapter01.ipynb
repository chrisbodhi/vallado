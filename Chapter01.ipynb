{
 "cells": [
  {
   "cell_type": "markdown",
   "id": "b20d3b13-9a1d-4127-a285-87ee80b5b60d",
   "metadata": {},
   "source": [
    "## Chapter 1\n",
    "## Equations of Motion"
   ]
  },
  {
   "cell_type": "markdown",
   "id": "b399f68f-6687-4b59-acfd-4b606d8dc755",
   "metadata": {},
   "source": [
    ">Astrodynamics is the study of the motion of man-made objects in space, subject to both natural and artificially induced forces.\n",
    "\n",
    "&mdash; Griffin and French, _Space Vehicle Design_, 1991"
   ]
  },
  {
   "cell_type": "code",
   "execution_count": null,
   "id": "f91ba76e-228d-4187-b284-f98129b4221a",
   "metadata": {},
   "outputs": [],
   "source": []
  }
 ],
 "metadata": {
  "kernelspec": {
   "display_name": "Rust",
   "language": "rust",
   "name": "rust"
  },
  "language_info": {
   "codemirror_mode": "rust",
   "file_extension": ".rs",
   "mimetype": "text/rust",
   "name": "Rust",
   "pygment_lexer": "rust",
   "version": ""
  }
 },
 "nbformat": 4,
 "nbformat_minor": 5
}
