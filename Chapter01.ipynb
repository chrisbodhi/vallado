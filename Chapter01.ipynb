{
 "cells": [
  {
   "cell_type": "markdown",
   "id": "b20d3b13-9a1d-4127-a285-87ee80b5b60d",
   "metadata": {},
   "source": [
    "## Chapter 1\n",
    "## Equations of Motion"
   ]
  },
  {
   "cell_type": "markdown",
   "id": "b399f68f-6687-4b59-acfd-4b606d8dc755",
   "metadata": {},
   "source": [
    ">Astrodynamics is the study of the motion of man-made objects in space, subject to both natural and artificially induced forces.\n",
    "\n",
    "&mdash; Griffin and French, _Space Vehicle Design_, 1991"
   ]
  },
  {
   "cell_type": "markdown",
   "id": "7125ef8c-0301-4cae-ac53-89804ac4fa08",
   "metadata": {},
   "source": [
    "Orbits can be represented by conic sections -- a plane intersecting a regular cone in one a few ways. That intersection type can create an ellipse, hyperbola, circle, or hyperbola. Planetary orbits are ellipses."
   ]
  },
  {
   "cell_type": "markdown",
   "id": "9b2bf700-0b38-45fe-9ba0-c0e13f24c0e4",
   "metadata": {},
   "source": [
    "Some tidbits to remember when working with an ellipse:\n",
    "\n",
    "- The sum of the distance from Focus 1 to any point and the distance from Focus 2 to that same point will always be constant, no matter the point selected along the ellipse.\n",
    "- "
   ]
  },
  {
   "cell_type": "code",
   "execution_count": 24,
   "id": "f84dd7e4-812e-4caa-b69d-a6333cd60a18",
   "metadata": {},
   "outputs": [],
   "source": [
    "struct Point {\n",
    "    x: f64,\n",
    "    y: f64,\n",
    "}\n",
    "\n",
    "pub struct Ellipse {\n",
    "    // Primary focus\n",
    "    F: Point,\n",
    "    // Focus, not primary\n",
    "    f: Point,\n",
    "    // Radius of periapsis\n",
    "    r_p: Point,\n",
    "}"
   ]
  },
  {
   "cell_type": "code",
   "execution_count": 18,
   "id": "f91ba76e-228d-4187-b284-f98129b4221a",
   "metadata": {},
   "outputs": [],
   "source": [
    "// Units\n",
    "\n",
    "#[derive(Copy, Clone, Debug)]\n",
    "pub struct Meter(pub f64);\n",
    "\n",
    "#[derive(Copy, Clone, Debug)]\n",
    "pub struct Kilometer(pub f64);\n",
    "\n",
    "impl Kilometer {\n",
    "    fn to_meters(&self) -> Meter {\n",
    "        Meter(self.0 * 1_000.0)\n",
    "    }\n",
    "}\n",
    "\n",
    "let to_moon = Kilometer(234_000.0);"
   ]
  },
  {
   "cell_type": "code",
   "execution_count": 13,
   "id": "e637d40c-a433-4b60-8770-fca267d97f36",
   "metadata": {},
   "outputs": [
    {
     "name": "stderr",
     "output_type": "stream",
     "text": [
      "[src/lib.rs:112:1] to_moon = Kilometer(\n",
      "    234000.0,\n",
      ")\n"
     ]
    }
   ],
   "source": [
    "dbg!(to_moon);"
   ]
  },
  {
   "cell_type": "code",
   "execution_count": 17,
   "id": "29e49261-c86e-44af-92f2-60ca987c5208",
   "metadata": {},
   "outputs": [
    {
     "name": "stderr",
     "output_type": "stream",
     "text": [
      "[src/lib.rs:112:1] to_moon.to_meters() = Meter(\n",
      "    234000000.0,\n",
      ")\n"
     ]
    }
   ],
   "source": [
    "dbg!(to_moon.to_meters());"
   ]
  },
  {
   "cell_type": "code",
   "execution_count": 19,
   "id": "10982681-5952-49c6-85b1-754810abaaa7",
   "metadata": {},
   "outputs": [],
   "source": [
    "// Constants \n",
    "\n",
    "pub mod consts {\n",
    "    /// Archimedes’ constant (π)\n",
    "    pub const PI: f64 = 3.14159265358979323846264338327950288_f64;\n",
    "\n",
    "    /// The full circle constant (τ)\n",
    "    ///\n",
    "    /// Equal to 2π.\n",
    "    pub const TAU: f64 = 6.28318530717958647692528676655900577_f64;\n",
    "\n",
    "    /// Euler's number (e)\n",
    "    pub const E: f64 = 2.71828182845904523536028747135266250_f64;\n",
    "}\n"
   ]
  }
 ],
 "metadata": {
  "kernelspec": {
   "display_name": "Rust",
   "language": "rust",
   "name": "rust"
  },
  "language_info": {
   "codemirror_mode": "rust",
   "file_extension": ".rs",
   "mimetype": "text/rust",
   "name": "Rust",
   "pygment_lexer": "rust",
   "version": ""
  }
 },
 "nbformat": 4,
 "nbformat_minor": 5
}
